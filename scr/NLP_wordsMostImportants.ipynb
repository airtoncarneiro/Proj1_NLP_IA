{
 "cells": [
  {
   "cell_type": "code",
   "execution_count": 2,
   "metadata": {},
   "outputs": [],
   "source": [
    "import os\n",
    "import pdfplumber\n",
    "\n",
    "# with pdfplumber.open('../data/raw/texto3.pdf') as pdf:\n",
    "#     first_page = pdf.pages[0]\n",
    "#     #print(first_page.chars[0])\n",
    "#     print(first_page.extract_text())"
   ]
  },
  {
   "cell_type": "code",
   "execution_count": 3,
   "metadata": {},
   "outputs": [],
   "source": [
    "def find_files(path:str)->list:\n",
    "    '''\n",
    "    '''\n",
    "\n",
    "    for file in os.listdir(path):\n",
    "        if file.endswith('.pdf'):\n",
    "            print(os.path.join(path, file))"
   ]
  },
  {
   "cell_type": "code",
   "execution_count": 49,
   "metadata": {},
   "outputs": [
    {
     "name": "stdout",
     "output_type": "stream",
     "text": [
      "D:\\Temp\\words_tree.ipynp\n"
     ]
    }
   ],
   "source": [
    "# importing os module\n",
    "import os\n",
    "\n",
    "\n",
    "# gives the path of demo.py\n",
    "path = os.path.realpath('words_tree.ipynp')\n",
    "print(path)"
   ]
  },
  {
   "cell_type": "code",
   "execution_count": 43,
   "metadata": {},
   "outputs": [
    {
     "ename": "NameError",
     "evalue": "name '__file__' is not defined",
     "output_type": "error",
     "traceback": [
      "\u001b[1;31m---------------------------------------------------------------------------\u001b[0m",
      "\u001b[1;31mNameError\u001b[0m                                 Traceback (most recent call last)",
      "\u001b[1;32md:\\Cursos\\InstitutoAtlantico\\2022.04.ComputaçãoCognitiva\\squad2_atlantico_bootcamp\\scr\\NLP_wordsMostImportants.ipynb Cell 4'\u001b[0m in \u001b[0;36m<cell line: 1>\u001b[1;34m()\u001b[0m\n\u001b[1;32m----> <a href='vscode-notebook-cell:/d%3A/Cursos/InstitutoAtlantico/2022.04.Computa%C3%A7%C3%A3oCognitiva/squad2_atlantico_bootcamp/scr/NLP_wordsMostImportants.ipynb#ch0000014?line=0'>1</a>\u001b[0m os\u001b[39m.\u001b[39mpath\u001b[39m.\u001b[39mrelpath(\u001b[39m__file__\u001b[39;49m)\n",
      "\u001b[1;31mNameError\u001b[0m: name '__file__' is not defined"
     ]
    }
   ],
   "source": [
    "os.path.abspath"
   ]
  }
 ],
 "metadata": {
  "interpreter": {
   "hash": "0c715bfb9df34512991fce63625278dda66c51e5dbc1dbfc046f1bef2d1eb027"
  },
  "kernelspec": {
   "display_name": "Python 3.9.12 ('IAtlantico')",
   "language": "python",
   "name": "python3"
  },
  "language_info": {
   "codemirror_mode": {
    "name": "ipython",
    "version": 3
   },
   "file_extension": ".py",
   "mimetype": "text/x-python",
   "name": "python",
   "nbconvert_exporter": "python",
   "pygments_lexer": "ipython3",
   "version": "3.9.12"
  },
  "orig_nbformat": 4
 },
 "nbformat": 4,
 "nbformat_minor": 2
}
