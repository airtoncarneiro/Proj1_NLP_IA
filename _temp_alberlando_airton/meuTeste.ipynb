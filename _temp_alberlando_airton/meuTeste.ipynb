{
 "cells": [
  {
   "cell_type": "code",
   "execution_count": null,
   "metadata": {},
   "outputs": [],
   "source": [
    "import numpy as np\n",
    "from itertools import chain\n",
    "import matplotlib.pyplot as plt\n",
    "import pandas as pd\n",
    "import networkx as nx\n",
    "from heapq import nlargest\n",
    "import nltk\n",
    "from nltk.corpus import stopwords\n",
    "from nltk.stem import WordNetLemmatizer\n",
    "from nltk.tokenize import word_tokenize, sent_tokenize\n",
    "import re, string\n",
    "import math"
   ]
  }
 ],
 "metadata": {
  "interpreter": {
   "hash": "56b9f799bd70024e1514036b3b6adf70f44f1a0b72fcb834b1525be84756d226"
  },
  "kernelspec": {
   "display_name": "Python 3.9.12 ('IAtlantico')",
   "language": "python",
   "name": "python3"
  },
  "language_info": {
   "name": "python",
   "version": "3.9.12"
  },
  "orig_nbformat": 4
 },
 "nbformat": 4,
 "nbformat_minor": 2
}
